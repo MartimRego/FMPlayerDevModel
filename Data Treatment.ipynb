{
 "cells": [
  {
   "cell_type": "code",
   "execution_count": 1,
   "id": "819b0fd7",
   "metadata": {},
   "outputs": [],
   "source": [
    "import numpy as np\n",
    "import pandas as pd\n",
    "import math\n",
    "import time\n",
    "import torch\n",
    "from datetime import datetime"
   ]
  },
  {
   "cell_type": "code",
   "execution_count": 2,
   "id": "0745d364",
   "metadata": {},
   "outputs": [],
   "source": [
    "df = pd.read_csv('RawData.csv')"
   ]
  },
  {
   "cell_type": "code",
   "execution_count": 3,
   "id": "6ed3bf9d",
   "metadata": {},
   "outputs": [],
   "source": [
    "date_format = \"%d/%m/%Y\"\n",
    "b = datetime.strptime('3/7/2023', date_format)\n",
    "for i in range(len(df)):\n",
    "    Date = df.iloc[i,4][0:-15]\n",
    "    a = datetime.strptime(Date, date_format)\n",
    "    delta = b - a\n",
    "    days = delta.days\n",
    "    RealAge = days/365.25\n",
    "    df.iloc[i,3] = RealAge"
   ]
  },
  {
   "cell_type": "code",
   "execution_count": 4,
   "id": "484260a7",
   "metadata": {},
   "outputs": [],
   "source": [
    "df = df.drop(['UID', 'Club','DoB'], axis=1)"
   ]
  },
  {
   "cell_type": "code",
   "execution_count": 5,
   "id": "1cf22ebb",
   "metadata": {},
   "outputs": [],
   "source": [
    "df.to_csv('Data.csv',index = False)"
   ]
  },
  {
   "cell_type": "code",
   "execution_count": 6,
   "id": "2047a3ae",
   "metadata": {},
   "outputs": [],
   "source": [
    "for i in range(len(df)):\n",
    "    Margin = df.iloc[i,14] - df.iloc[i,13]\n",
    "    Growth = df.iloc[i,17] - df.iloc[i,13]\n",
    "    df.iloc[i,14] = Margin\n",
    "    df.iloc[i,17] = Growth"
   ]
  },
  {
   "cell_type": "code",
   "execution_count": 7,
   "id": "7f9b65de",
   "metadata": {},
   "outputs": [],
   "source": [
    "df = df.set_axis(['Position', 'Age', 'Prof', 'Det', 'Amb', 'Mins', 'Av Rat', 'Imp M',\n",
    "       'Pres', 'Cons', 'Ada', 'Inj Pr', 'WR', 'CA', 'Margin',\n",
    "       'Training facilities', 'Div Rep', 'Growth'], axis=1)"
   ]
  },
  {
   "cell_type": "code",
   "execution_count": 8,
   "id": "17020535",
   "metadata": {},
   "outputs": [],
   "source": [
    "df.to_csv('MarginData.csv',index = False)"
   ]
  },
  {
   "cell_type": "code",
   "execution_count": 9,
   "id": "be31f2ab",
   "metadata": {},
   "outputs": [],
   "source": [
    "for i in range(len(df)):\n",
    "    if df.iloc[i,0] == 'GK':\n",
    "        df.iloc[i,0] = 1\n",
    "    else:\n",
    "        df.iloc[i,0] = 0\n",
    "df = df.set_axis(['GKFlag', 'Age', 'Prof', 'Det', 'Amb', 'Mins', 'Av Rat', 'Imp M',\n",
    "       'Pres', 'Cons', 'Ada', 'Inj Pr', 'WR', 'CA', 'Margin',\n",
    "       'Training facilities', 'Div Rep', 'Growth'], axis=1)"
   ]
  },
  {
   "cell_type": "code",
   "execution_count": 10,
   "id": "089c84d6",
   "metadata": {},
   "outputs": [],
   "source": [
    "df.to_csv('GKFlagMarginData.csv', index = False)"
   ]
  },
  {
   "cell_type": "code",
   "execution_count": 11,
   "id": "5b37b3ad",
   "metadata": {},
   "outputs": [],
   "source": [
    "dfgk = df[df['GKFlag'] == True]\n",
    "\n",
    "dfgk = dfgk.drop(['GKFlag'], axis=1)\n",
    "\n",
    "dfgk = dfgk.reset_index()\n",
    "\n",
    "dfgk.to_csv('GKMarginData.csv',index = False)\n",
    "\n",
    "dfout = df[df['GKFlag'] == False]\n",
    "\n",
    "dfout = dfout.drop(['GKFlag'], axis=1)\n",
    "\n",
    "dfout = dfout.reset_index()\n",
    "\n",
    "dfout.to_csv('OutMarginData.csv',index = False)"
   ]
  },
  {
   "cell_type": "code",
   "execution_count": null,
   "id": "086a31aa",
   "metadata": {},
   "outputs": [],
   "source": []
  }
 ],
 "metadata": {
  "kernelspec": {
   "display_name": "Python 3 (ipykernel)",
   "language": "python",
   "name": "python3"
  },
  "language_info": {
   "codemirror_mode": {
    "name": "ipython",
    "version": 3
   },
   "file_extension": ".py",
   "mimetype": "text/x-python",
   "name": "python",
   "nbconvert_exporter": "python",
   "pygments_lexer": "ipython3",
   "version": "3.11.3"
  }
 },
 "nbformat": 4,
 "nbformat_minor": 5
}
